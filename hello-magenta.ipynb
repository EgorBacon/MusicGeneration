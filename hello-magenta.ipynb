{
 "cells": [
  {
   "cell_type": "code",
   "execution_count": null,
   "id": "alternate-treasury",
   "metadata": {},
   "outputs": [],
   "source": [
    "import magenta\n",
    "import note_seq\n",
    "import tensorflow\n",
    "from note_seq.protobuf import music_pb2"
   ]
  },
  {
   "cell_type": "code",
   "execution_count": null,
   "id": "dress-modem",
   "metadata": {},
   "outputs": [],
   "source": [
    "twinkle_twinkle = music_pb2.NoteSequence()\n",
    "\n",
    "# Add the notes to the sequence.\n",
    "twinkle_twinkle.notes.add(pitch=60, start_time=0.0, end_time=0.5, velocity=80)\n",
    "twinkle_twinkle.notes.add(pitch=60, start_time=0.5, end_time=1.0, velocity=80)\n",
    "twinkle_twinkle.notes.add(pitch=67, start_time=1.0, end_time=1.5, velocity=80)\n",
    "twinkle_twinkle.notes.add(pitch=67, start_time=1.5, end_time=2.0, velocity=80)\n",
    "twinkle_twinkle.notes.add(pitch=69, start_time=2.0, end_time=2.5, velocity=80)\n",
    "twinkle_twinkle.notes.add(pitch=69, start_time=2.5, end_time=3.0, velocity=80)\n",
    "twinkle_twinkle.notes.add(pitch=67, start_time=3.0, end_time=4.0, velocity=80)\n",
    "twinkle_twinkle.notes.add(pitch=65, start_time=4.0, end_time=4.5, velocity=80)\n",
    "twinkle_twinkle.notes.add(pitch=65, start_time=4.5, end_time=5.0, velocity=80)\n",
    "twinkle_twinkle.notes.add(pitch=64, start_time=5.0, end_time=5.5, velocity=80)\n",
    "twinkle_twinkle.notes.add(pitch=64, start_time=5.5, end_time=6.0, velocity=80)\n",
    "twinkle_twinkle.notes.add(pitch=62, start_time=6.0, end_time=6.5, velocity=80)\n",
    "twinkle_twinkle.notes.add(pitch=62, start_time=6.5, end_time=7.0, velocity=80)\n",
    "twinkle_twinkle.notes.add(pitch=60, start_time=7.0, end_time=8.0, velocity=80) \n",
    "twinkle_twinkle.total_time = 8\n",
    "\n",
    "twinkle_twinkle.tempos.add(qpm=60);\n",
    "\n",
    "# This is a colab utility method that visualizes a NoteSequence.\n",
    "note_seq.plot_sequence(twinkle_twinkle)\n",
    "\n",
    "# This is a colab utility method that plays a NoteSequence.\n",
    "note_seq.play_sequence(twinkle_twinkle,synth=note_seq.fluidsynth)\n",
    "\n",
    "# Here's another NoteSequence!\n",
    "teapot = music_pb2.NoteSequence()\n",
    "teapot.notes.add(pitch=69, start_time=0, end_time=0.5, velocity=80)\n",
    "teapot.notes.add(pitch=71, start_time=0.5, end_time=1, velocity=80)\n",
    "teapot.notes.add(pitch=73, start_time=1, end_time=1.5, velocity=80)\n",
    "teapot.notes.add(pitch=74, start_time=1.5, end_time=2, velocity=80)\n",
    "teapot.notes.add(pitch=76, start_time=2, end_time=2.5, velocity=80)\n",
    "teapot.notes.add(pitch=81, start_time=3, end_time=4, velocity=80)\n",
    "teapot.notes.add(pitch=78, start_time=4, end_time=5, velocity=80)\n",
    "teapot.notes.add(pitch=81, start_time=5, end_time=6, velocity=80)\n",
    "teapot.notes.add(pitch=76, start_time=6, end_time=8, velocity=80)\n",
    "teapot.total_time = 8\n",
    "\n",
    "teapot.tempos.add(qpm=60);\n",
    "\n",
    "note_seq.plot_sequence(teapot)\n",
    "note_seq.play_sequence(teapot,synth=note_seq.synthesize)"
   ]
  },
  {
   "cell_type": "code",
   "execution_count": null,
   "id": "sporting-flashing",
   "metadata": {},
   "outputs": [],
   "source": [
    "print('Downloading model bundle. This will take less than a minute...')\n",
    "note_seq.notebook_utils.download_bundle('basic_rnn.mag', './content/')\n",
    "note_seq.notebook_utils.download_bundle('lookback_rnn.mag', './content/')\n",
    "note_seq.notebook_utils.download_bundle('attention_rnn.mag', './content/')\n",
    "\n",
    "# Import dependencies.\n",
    "from magenta.models.melody_rnn import melody_rnn_sequence_generator\n",
    "from magenta.models.shared import sequence_generator_bundle\n",
    "from note_seq.protobuf import generator_pb2\n",
    "from note_seq.protobuf import music_pb2\n",
    "\n",
    "# Initialize the model.\n",
    "print(\"Initializing Melody RNN...\")\n",
    "bundle = sequence_generator_bundle.read_bundle_file('./content/attention_rnn.mag')\n",
    "generator_map = melody_rnn_sequence_generator.get_generator_map()\n",
    "melody_rnn = generator_map['attention_rnn'](checkpoint=None, bundle=bundle)\n",
    "melody_rnn.initialize()\n",
    "\n",
    "print('🎉 Done!')"
   ]
  },
  {
   "cell_type": "code",
   "execution_count": null,
   "id": "pharmaceutical-democracy",
   "metadata": {},
   "outputs": [],
   "source": [
    "with open('./bumble_bee.mid', 'rb') as f:\n",
    "    bumble_bee = note_seq.midi_to_note_sequence(f.read())"
   ]
  },
  {
   "cell_type": "code",
   "execution_count": null,
   "id": "bizarre-assignment",
   "metadata": {},
   "outputs": [],
   "source": [
    "note_seq.play_sequence(bumble_bee, synth=note_seq.synthesize)"
   ]
  },
  {
   "cell_type": "code",
   "execution_count": null,
   "id": "dependent-phenomenon",
   "metadata": {},
   "outputs": [],
   "source": [
    "with open('./mountain_king2.mid', 'rb') as f:\n",
    "    mountain_king = note_seq.midi_to_note_sequence(f.read())"
   ]
  },
  {
   "cell_type": "code",
   "execution_count": null,
   "id": "changed-cutting",
   "metadata": {},
   "outputs": [],
   "source": [
    "note_seq.plot_sequence(mountain_king)\n",
    "note_seq.play_sequence(mountain_king, synth=note_seq.synthesize)"
   ]
  },
  {
   "cell_type": "code",
   "execution_count": null,
   "id": "excess-mining",
   "metadata": {
    "scrolled": true
   },
   "outputs": [],
   "source": [
    "# Model options. Change these to get different generated sequences! \n",
    "\n",
    "input_sequence = bumble_bee # change this to teapot if you want\n",
    "num_steps = 2000 # change this for shorter or longer sequences\n",
    "temperature = 1.1 # the higher the temperature the more random the sequence.\n",
    "\n",
    "# Set the start time to begin on the next step after the last note ends.\n",
    "last_end_time = (max(n.end_time for n in input_sequence.notes)\n",
    "                  if input_sequence.notes else 0)\n",
    "qpm = input_sequence.tempos[0].qpm \n",
    "seconds_per_step = 60.0 / qpm / melody_rnn.steps_per_quarter\n",
    "total_seconds = num_steps * seconds_per_step\n",
    "\n",
    "generator_options = generator_pb2.GeneratorOptions()\n",
    "generator_options.args['temperature'].float_value = temperature\n",
    "generate_section = generator_options.generate_sections.add(\n",
    "  start_time=last_end_time + seconds_per_step,\n",
    "  end_time=total_seconds)\n",
    "\n",
    "# Ask the model to continue the sequence.\n",
    "sequence = melody_rnn.generate(input_sequence, generator_options)\n",
    "\n",
    "note_seq.plot_sequence(sequence)\n",
    "note_seq.play_sequence(sequence, synth=note_seq.fluidsynth)\n"
   ]
  },
  {
   "cell_type": "code",
   "execution_count": null,
   "id": "useful-charger",
   "metadata": {},
   "outputs": [],
   "source": [
    "note_seq.sequence_proto_to_midi_file(sequence, 'bumble_bee_extended.mid')"
   ]
  },
  {
   "cell_type": "code",
   "execution_count": null,
   "id": "herbal-camping",
   "metadata": {},
   "outputs": [],
   "source": [
    "print('Copying checkpoint from GCS. This will take less than a minute...')\n",
    "# This will download the mel_2bar_big checkpoint. There are more checkpoints that you\n",
    "# can use with this model, depending on what kind of output you want\n",
    "# See the list of checkpoints: https://github.com/magenta/magenta/tree/master/magenta/models/music_vae#pre-trained-checkpoints\n",
    "# !gsutil -q -m cp -R gs://download.magenta.tensorflow.org/models/music_vae/colab2/checkpoints/mel_2bar_big.ckpt.* ./content/\n",
    "\n",
    "# Import dependencies.\n",
    "from magenta.models.music_vae import configs\n",
    "from magenta.models.music_vae.trained_model import TrainedModel\n",
    "\n",
    "# Initialize the model.\n",
    "print(\"Initializing Music VAE...\")\n",
    "music_vae = TrainedModel(\n",
    "      configs.CONFIG_MAP['cat-mel_2bar_big'], \n",
    "      batch_size=4, \n",
    "      checkpoint_dir_or_path='./content/cat-mel_2bar_big.ckpt')\n",
    "\n",
    "print('🎉 Done!')\n"
   ]
  },
  {
   "cell_type": "code",
   "execution_count": null,
   "id": "raised-agenda",
   "metadata": {},
   "outputs": [],
   "source": [
    "generated_sequences = music_vae.sample(n=2, length=80, temperature=1.0)\n",
    "\n",
    "for ns in generated_sequences:\n",
    "  # print(ns)\n",
    "  note_seq.plot_sequence(ns)\n",
    "  note_seq.play_sequence(ns, synth=note_seq.fluidsynth)"
   ]
  },
  {
   "cell_type": "code",
   "execution_count": null,
   "id": "serious-agreement",
   "metadata": {},
   "outputs": [],
   "source": [
    "# We're going to interpolate between the Twinkle Twinkle Little Star\n",
    "# NoteSequence we defined in the first section, and one of the generated\n",
    "# sequences from the previous VAE example\n",
    "\n",
    "# How many sequences, including the start and end ones, to generate.\n",
    "num_steps = 8;\n",
    "\n",
    "# This gives us a list of sequences.\n",
    "note_sequences = music_vae.interpolate(\n",
    "      teapot,\n",
    "      mountain_king, \n",
    "      num_steps=num_steps,\n",
    "      length=32)\n",
    "\n",
    "# Concatenate them into one long sequence, with the start and \n",
    "# end sequences at each end. \n",
    "interp_seq = note_seq.sequences_lib.concatenate_sequences(note_sequences)\n",
    "\n",
    "note_seq.play_sequence(interp_seq, synth=note_seq.fluidsynth)\n",
    "note_seq.plot_sequence(interp_seq)"
   ]
  },
  {
   "cell_type": "code",
   "execution_count": null,
   "id": "invalid-genre",
   "metadata": {},
   "outputs": [],
   "source": [
    "import pygame.midi"
   ]
  },
  {
   "cell_type": "code",
   "execution_count": null,
   "id": "united-allah",
   "metadata": {},
   "outputs": [],
   "source": [
    "pygame.midi.init()"
   ]
  },
  {
   "cell_type": "code",
   "execution_count": null,
   "id": "collected-stability",
   "metadata": {},
   "outputs": [],
   "source": [
    "for i in range(pygame.midi.get_count()):\n",
    "    print(pygame.midi.get_device_info(i))"
   ]
  },
  {
   "cell_type": "code",
   "execution_count": null,
   "id": "alike-budget",
   "metadata": {},
   "outputs": [],
   "source": [
    "midi_in = pygame.midi.Input(0)"
   ]
  },
  {
   "cell_type": "code",
   "execution_count": null,
   "id": "discrete-going",
   "metadata": {},
   "outputs": [],
   "source": [
    "midi_in.read(100)"
   ]
  },
  {
   "cell_type": "code",
   "execution_count": null,
   "id": "critical-ecuador",
   "metadata": {},
   "outputs": [],
   "source": [
    "import pretty_midi"
   ]
  },
  {
   "cell_type": "code",
   "execution_count": null,
   "id": "administrative-closing",
   "metadata": {},
   "outputs": [],
   "source": [
    "pretty_midi.note_number_to_name(60)"
   ]
  },
  {
   "cell_type": "code",
   "execution_count": null,
   "id": "attempted-bryan",
   "metadata": {},
   "outputs": [],
   "source": [
    "captured_notes = music_pb2.NoteSequence()\n",
    "\n",
    "events = midi_in.read(100)\n",
    "capture_start = events[0][1]\n",
    "capture_end = events[-1][1]\n",
    "\n",
    "captured_notes.total_time = (capture_end - capture_start)/1000\n",
    "\n",
    "for i in range(len(events)):\n",
    "    event,timestamp = events[i]\n",
    "    event_code, pitch, velocity, _ = event\n",
    "    if event_code == 144:\n",
    "        for j in range(i + 1, len(events)):\n",
    "            if events[j][0][1] == pitch and events[j][0][0] == 128:\n",
    "                captured_notes.notes.add(pitch = pitch, start_time = (events[i][1]-capture_start)/1000, end_time = (events[j][1] - capture_start)/1000, velocity = velocity)\n",
    "                break\n",
    "                \n",
    "captured_notes.tempos.add(qpm = 60)"
   ]
  },
  {
   "cell_type": "code",
   "execution_count": null,
   "id": "abstract-charge",
   "metadata": {},
   "outputs": [],
   "source": [
    "captured_notes = music_pb2.NoteSequence()"
   ]
  },
  {
   "cell_type": "code",
   "execution_count": null,
   "id": "exceptional-division",
   "metadata": {},
   "outputs": [],
   "source": [
    "dir(note_seq)"
   ]
  },
  {
   "cell_type": "code",
   "execution_count": null,
   "id": "massive-olive",
   "metadata": {},
   "outputs": [],
   "source": [
    "note_seq.plot_sequence?"
   ]
  },
  {
   "cell_type": "code",
   "execution_count": null,
   "id": "funded-victorian",
   "metadata": {},
   "outputs": [],
   "source": []
  }
 ],
 "metadata": {
  "kernelspec": {
   "display_name": "Python 3",
   "language": "python",
   "name": "python3"
  },
  "language_info": {
   "codemirror_mode": {
    "name": "ipython",
    "version": 3
   },
   "file_extension": ".py",
   "mimetype": "text/x-python",
   "name": "python",
   "nbconvert_exporter": "python",
   "pygments_lexer": "ipython3",
   "version": "3.7.9"
  }
 },
 "nbformat": 4,
 "nbformat_minor": 5
}
